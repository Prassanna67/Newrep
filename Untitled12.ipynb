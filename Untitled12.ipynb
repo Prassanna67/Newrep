{
  "nbformat": 4,
  "nbformat_minor": 0,
  "metadata": {
    "colab": {
      "provenance": [],
      "mount_file_id": "1y_wVkyWYD8M4BNAStdQ-K0z2sFaZPTNz",
      "authorship_tag": "ABX9TyPNh9OjCWlgGM9bGCuaW8kp",
      "include_colab_link": true
    },
    "kernelspec": {
      "name": "python3",
      "display_name": "Python 3"
    },
    "language_info": {
      "name": "python"
    }
  },
  "cells": [
    {
      "cell_type": "markdown",
      "metadata": {
        "id": "view-in-github",
        "colab_type": "text"
      },
      "source": [
        "<a href=\"https://colab.research.google.com/github/Prassanna67/Newrep/blob/main/Untitled12.ipynb\" target=\"_parent\"><img src=\"https://colab.research.google.com/assets/colab-badge.svg\" alt=\"Open In Colab\"/></a>"
      ]
    },
    {
      "cell_type": "code",
      "execution_count": null,
      "metadata": {
        "colab": {
          "base_uri": "https://localhost:8080/"
        },
        "id": "9-pRrIb9GBtU",
        "outputId": "e679a36c-b79c-4e69-96b1-dcd7623dc32d"
      },
      "outputs": [
        {
          "output_type": "stream",
          "name": "stdout",
          "text": [
            "Requirement already satisfied: pillow in /usr/local/lib/python3.11/dist-packages (11.1.0)\n"
          ]
        }
      ],
      "source": [
        "!pip install pillow\n"
      ]
    },
    {
      "cell_type": "code",
      "source": [
        "from PIL import Image\n",
        "from PIL.ExifTags import TAGS\n",
        "\n",
        "def get_image_metadata(image_path):\n",
        "    img = Image.open(image_path)\n",
        "    exif_data = img._getexif()\n",
        "\n",
        "    if not exif_data:\n",
        "        print(\"No metadata found.\")\n",
        "        return\n",
        "\n",
        "    for tag, value in exif_data.items():\n",
        "        tag_name = TAGS.get(tag, tag)\n",
        "        print(f\"{tag_name}: {value}\")\n",
        "\n",
        "# Upload an image and use its path\n",
        "image_path = \"/content/vijay_7.jpg\"\n",
        "get_image_metadata(image_path)\n"
      ],
      "metadata": {
        "colab": {
          "base_uri": "https://localhost:8080/"
        },
        "id": "zXosDLnjGcyk",
        "outputId": "5dbcb1f2-de4f-4b2f-8cb4-637f8a0192b8"
      },
      "execution_count": null,
      "outputs": [
        {
          "output_type": "stream",
          "name": "stdout",
          "text": [
            "No metadata found.\n"
          ]
        }
      ]
    },
    {
      "cell_type": "code",
      "source": [
        "!apt install libimage-exiftool-perl"
      ],
      "metadata": {
        "colab": {
          "base_uri": "https://localhost:8080/"
        },
        "id": "CwtnMYtIIRZu",
        "outputId": "f5e61ed1-7b72-4d6e-b409-4f5e4ea6f600"
      },
      "execution_count": null,
      "outputs": [
        {
          "output_type": "stream",
          "name": "stdout",
          "text": [
            "Reading package lists... Done\n",
            "Building dependency tree... Done\n",
            "Reading state information... Done\n",
            "The following additional packages will be installed:\n",
            "  libarchive-zip-perl libmime-charset-perl libsombok3 libunicode-linebreak-perl\n",
            "Suggested packages:\n",
            "  libposix-strptime-perl libencode-hanextra-perl libpod2-base-perl\n",
            "The following NEW packages will be installed:\n",
            "  libarchive-zip-perl libimage-exiftool-perl libmime-charset-perl libsombok3\n",
            "  libunicode-linebreak-perl\n",
            "0 upgraded, 5 newly installed, 0 to remove and 22 not upgraded.\n",
            "Need to get 3,964 kB of archives.\n",
            "After this operation, 23.5 MB of additional disk space will be used.\n",
            "Get:1 http://archive.ubuntu.com/ubuntu jammy/main amd64 libarchive-zip-perl all 1.68-1 [90.2 kB]\n",
            "Get:2 http://archive.ubuntu.com/ubuntu jammy/universe amd64 libimage-exiftool-perl all 12.40+dfsg-1 [3,717 kB]\n",
            "Get:3 http://archive.ubuntu.com/ubuntu jammy/universe amd64 libmime-charset-perl all 1.012.2-1 [30.9 kB]\n",
            "Get:4 http://archive.ubuntu.com/ubuntu jammy/universe amd64 libsombok3 amd64 2.4.0-2 [26.9 kB]\n",
            "Get:5 http://archive.ubuntu.com/ubuntu jammy/universe amd64 libunicode-linebreak-perl amd64 0.0.20190101-1build3 [99.1 kB]\n",
            "Fetched 3,964 kB in 2s (1,614 kB/s)\n",
            "Selecting previously unselected package libarchive-zip-perl.\n",
            "(Reading database ... 124935 files and directories currently installed.)\n",
            "Preparing to unpack .../libarchive-zip-perl_1.68-1_all.deb ...\n",
            "Unpacking libarchive-zip-perl (1.68-1) ...\n",
            "Selecting previously unselected package libimage-exiftool-perl.\n",
            "Preparing to unpack .../libimage-exiftool-perl_12.40+dfsg-1_all.deb ...\n",
            "Unpacking libimage-exiftool-perl (12.40+dfsg-1) ...\n",
            "Selecting previously unselected package libmime-charset-perl.\n",
            "Preparing to unpack .../libmime-charset-perl_1.012.2-1_all.deb ...\n",
            "Unpacking libmime-charset-perl (1.012.2-1) ...\n",
            "Selecting previously unselected package libsombok3:amd64.\n",
            "Preparing to unpack .../libsombok3_2.4.0-2_amd64.deb ...\n",
            "Unpacking libsombok3:amd64 (2.4.0-2) ...\n",
            "Selecting previously unselected package libunicode-linebreak-perl.\n",
            "Preparing to unpack .../libunicode-linebreak-perl_0.0.20190101-1build3_amd64.deb ...\n",
            "Unpacking libunicode-linebreak-perl (0.0.20190101-1build3) ...\n",
            "Setting up libsombok3:amd64 (2.4.0-2) ...\n",
            "Setting up libarchive-zip-perl (1.68-1) ...\n",
            "Setting up libimage-exiftool-perl (12.40+dfsg-1) ...\n",
            "Setting up libmime-charset-perl (1.012.2-1) ...\n",
            "Setting up libunicode-linebreak-perl (0.0.20190101-1build3) ...\n",
            "Processing triggers for man-db (2.10.2-1) ...\n",
            "Processing triggers for libc-bin (2.35-0ubuntu3.8) ...\n",
            "/sbin/ldconfig.real: /usr/local/lib/libtbb.so.12 is not a symbolic link\n",
            "\n",
            "/sbin/ldconfig.real: /usr/local/lib/libtbbmalloc.so.2 is not a symbolic link\n",
            "\n",
            "/sbin/ldconfig.real: /usr/local/lib/libtcm_debug.so.1 is not a symbolic link\n",
            "\n",
            "/sbin/ldconfig.real: /usr/local/lib/libtbbbind_2_5.so.3 is not a symbolic link\n",
            "\n",
            "/sbin/ldconfig.real: /usr/local/lib/libur_adapter_level_zero.so.0 is not a symbolic link\n",
            "\n",
            "/sbin/ldconfig.real: /usr/local/lib/libur_loader.so.0 is not a symbolic link\n",
            "\n",
            "/sbin/ldconfig.real: /usr/local/lib/libhwloc.so.15 is not a symbolic link\n",
            "\n",
            "/sbin/ldconfig.real: /usr/local/lib/libur_adapter_opencl.so.0 is not a symbolic link\n",
            "\n",
            "/sbin/ldconfig.real: /usr/local/lib/libtcm.so.1 is not a symbolic link\n",
            "\n",
            "/sbin/ldconfig.real: /usr/local/lib/libtbbmalloc_proxy.so.2 is not a symbolic link\n",
            "\n",
            "/sbin/ldconfig.real: /usr/local/lib/libtbbbind_2_0.so.3 is not a symbolic link\n",
            "\n",
            "/sbin/ldconfig.real: /usr/local/lib/libumf.so.0 is not a symbolic link\n",
            "\n",
            "/sbin/ldconfig.real: /usr/local/lib/libtbbbind.so.3 is not a symbolic link\n",
            "\n"
          ]
        }
      ]
    },
    {
      "cell_type": "code",
      "source": [
        "!exiftool /content/vijay_7.jpg"
      ],
      "metadata": {
        "colab": {
          "base_uri": "https://localhost:8080/"
        },
        "id": "lX7_nJvAISZJ",
        "outputId": "6b417aaf-454e-4799-f89b-10da992ea88b"
      },
      "execution_count": null,
      "outputs": [
        {
          "output_type": "stream",
          "name": "stdout",
          "text": [
            "ExifTool Version Number         : 12.40\n",
            "File Name                       : vijay_7.jpg\n",
            "Directory                       : /content\n",
            "File Size                       : 13 KiB\n",
            "File Modification Date/Time     : 2025:02:26 14:47:45+00:00\n",
            "File Access Date/Time           : 2025:02:26 14:48:25+00:00\n",
            "File Inode Change Date/Time     : 2025:02:26 14:47:45+00:00\n",
            "File Permissions                : -rw-r--r--\n",
            "File Type                       : JPEG\n",
            "File Type Extension             : jpg\n",
            "MIME Type                       : image/jpeg\n",
            "JFIF Version                    : 1.01\n",
            "Resolution Unit                 : None\n",
            "X Resolution                    : 1\n",
            "Y Resolution                    : 1\n",
            "Image Width                     : 225\n",
            "Image Height                    : 225\n",
            "Encoding Process                : Baseline DCT, Huffman coding\n",
            "Bits Per Sample                 : 8\n",
            "Color Components                : 3\n",
            "Y Cb Cr Sub Sampling            : YCbCr4:4:4 (1 1)\n",
            "Image Size                      : 225x225\n",
            "Megapixels                      : 0.051\n"
          ]
        }
      ]
    },
    {
      "cell_type": "code",
      "source": [
        "import cv2\n",
        "\n",
        "image_path = \"/content/vijay_7.jpg\"\n",
        "image = cv2.imread(image_path)\n",
        "\n",
        "if image is not None:\n",
        "    height, width, channels = image.shape\n",
        "    print(f\"Width: {width}, Height: {height}, Channels: {channels}\")\n",
        "else:\n",
        "    print(\"Could not load image. Check the file path!\")\n"
      ],
      "metadata": {
        "colab": {
          "base_uri": "https://localhost:8080/"
        },
        "id": "EN6Gkj1UJY5Y",
        "outputId": "e96498de-a9ae-4fad-8c90-ad41e9a32864"
      },
      "execution_count": null,
      "outputs": [
        {
          "output_type": "stream",
          "name": "stdout",
          "text": [
            "Width: 225, Height: 225, Channels: 3\n"
          ]
        }
      ]
    },
    {
      "cell_type": "code",
      "source": [
        "import os\n",
        "import datetime\n",
        "\n",
        "image_path = \"/content/vijay_7.jpg\"\n",
        "timestamp = os.path.getctime(image_path)\n",
        "creation_date = datetime.datetime.fromtimestamp(timestamp)\n",
        "print(\"Image Created On:\", creation_date)\n"
      ],
      "metadata": {
        "colab": {
          "base_uri": "https://localhost:8080/"
        },
        "id": "otVZYsIvJetg",
        "outputId": "f96e297a-a9ae-4e60-cd4f-a249aa4f772d"
      },
      "execution_count": null,
      "outputs": [
        {
          "output_type": "stream",
          "name": "stdout",
          "text": [
            "Image Created On: 2025-02-26 14:47:45.580646\n"
          ]
        }
      ]
    },
    {
      "cell_type": "code",
      "source": [
        "# Install required dependencies (only needed for Colab)\n",
        "!pip install pillow exifread folium\n",
        "\n",
        "import os\n",
        "import exifread\n",
        "import folium\n",
        "from PIL import Image\n",
        "from PIL.ExifTags import TAGS, GPSTAGS\n",
        "\n",
        "# Function to extract EXIF metadata\n",
        "def extract_exif(image_path):\n",
        "    with open(image_path, 'rb') as img_file:\n",
        "        exif_data = exifread.process_file(img_file)\n",
        "\n",
        "    return {tag: exif_data[tag] for tag in exif_data.keys() if tag not in ['JPEGThumbnail', 'TIFFThumbnail', 'Filename', 'EXIF MakerNote']}\n",
        "\n",
        "# Function to extract GPS coordinates\n",
        "def get_gps_info(exif_data):\n",
        "    gps_info = {}\n",
        "    if \"GPS GPSLatitude\" in exif_data and \"GPS GPSLongitude\" in exif_data:\n",
        "        lat = exif_data[\"GPS GPSLatitude\"]\n",
        "        lon = exif_data[\"GPS GPSLongitude\"]\n",
        "        lat_ref = exif_data.get(\"GPS GPSLatitudeRef\", 'N')\n",
        "        lon_ref = exif_data.get(\"GPS GPSLongitudeRef\", 'E')\n",
        "\n",
        "        def convert_to_degrees(value):\n",
        "            d, m, s = [float(x.num) / float(x.den) for x in value.values]\n",
        "            return d + (m / 60.0) + (s / 3600.0)\n",
        "\n",
        "        latitude = convert_to_degrees(lat)\n",
        "        longitude = convert_to_degrees(lon)\n",
        "        if lat_ref != 'N':\n",
        "            latitude = -latitude\n",
        "        if lon_ref != 'E':\n",
        "            longitude = -longitude\n",
        "\n",
        "        gps_info['Latitude'] = latitude\n",
        "        gps_info['Longitude'] = longitude\n",
        "\n",
        "    return gps_info\n",
        "\n",
        "# Function to display GPS location on a map\n",
        "def show_on_map(gps_info):\n",
        "    if 'Latitude' in gps_info and 'Longitude' in gps_info:\n",
        "        location_map = folium.Map(location=[gps_info['Latitude'], gps_info['Longitude']], zoom_start=15)\n",
        "        folium.Marker([gps_info['Latitude'], gps_info['Longitude']], popup=\"Image Location\").add_to(location_map)\n",
        "        return location_map\n",
        "    else:\n",
        "        print(\"No GPS data found in image.\")\n",
        "        return None\n",
        "\n",
        "# Upload image and extract metadata\n",
        "image_path = \"/content/vijay_7.jpg\"  # Change this to your image file path\n",
        "if not os.path.exists(image_path):\n",
        "    print(\"Image file not found!\")\n",
        "else:\n",
        "    metadata = extract_exif(image_path)\n",
        "    gps_data = get_gps_info(metadata)\n",
        "\n",
        "    print(\"Metadata Extracted:\")\n",
        "    for key, value in metadata.items():\n",
        "        print(f\"{key}: {value}\")\n",
        "\n",
        "    # Display GPS info and map if available\n",
        "    if gps_data:\n",
        "        print(\"\\nGPS Coordinates:\")\n",
        "        print(gps_data)\n",
        "        show_on_map(gps_data)\n"
      ],
      "metadata": {
        "colab": {
          "base_uri": "https://localhost:8080/"
        },
        "id": "X9FIr1G3UQHv",
        "outputId": "ce80c0a4-9b91-4f9f-a8d2-e2b31e2810cf"
      },
      "execution_count": null,
      "outputs": [
        {
          "output_type": "stream",
          "name": "stdout",
          "text": [
            "Requirement already satisfied: pillow in /usr/local/lib/python3.11/dist-packages (11.1.0)\n",
            "Collecting exifread\n",
            "  Downloading ExifRead-3.0.0-py3-none-any.whl.metadata (6.4 kB)\n",
            "Requirement already satisfied: folium in /usr/local/lib/python3.11/dist-packages (0.19.4)\n",
            "Requirement already satisfied: branca>=0.6.0 in /usr/local/lib/python3.11/dist-packages (from folium) (0.8.1)\n",
            "Requirement already satisfied: jinja2>=2.9 in /usr/local/lib/python3.11/dist-packages (from folium) (3.1.5)\n",
            "Requirement already satisfied: numpy in /usr/local/lib/python3.11/dist-packages (from folium) (1.26.4)\n",
            "Requirement already satisfied: requests in /usr/local/lib/python3.11/dist-packages (from folium) (2.32.3)\n",
            "Requirement already satisfied: xyzservices in /usr/local/lib/python3.11/dist-packages (from folium) (2025.1.0)\n",
            "Requirement already satisfied: MarkupSafe>=2.0 in /usr/local/lib/python3.11/dist-packages (from jinja2>=2.9->folium) (3.0.2)\n",
            "Requirement already satisfied: charset-normalizer<4,>=2 in /usr/local/lib/python3.11/dist-packages (from requests->folium) (3.4.1)\n",
            "Requirement already satisfied: idna<4,>=2.5 in /usr/local/lib/python3.11/dist-packages (from requests->folium) (3.10)\n",
            "Requirement already satisfied: urllib3<3,>=1.21.1 in /usr/local/lib/python3.11/dist-packages (from requests->folium) (2.3.0)\n",
            "Requirement already satisfied: certifi>=2017.4.17 in /usr/local/lib/python3.11/dist-packages (from requests->folium) (2025.1.31)\n",
            "Downloading ExifRead-3.0.0-py3-none-any.whl (40 kB)\n",
            "\u001b[2K   \u001b[90m━━━━━━━━━━━━━━━━━━━━━━━━━━━━━━━━━━━━━━━━\u001b[0m \u001b[32m40.4/40.4 kB\u001b[0m \u001b[31m1.5 MB/s\u001b[0m eta \u001b[36m0:00:00\u001b[0m\n",
            "\u001b[?25hInstalling collected packages: exifread\n",
            "Successfully installed exifread-3.0.0\n",
            "Metadata Extracted:\n"
          ]
        }
      ]
    },
    {
      "cell_type": "code",
      "source": [
        "import exifread\n",
        "\n",
        "# Open the image file\n",
        "image_path = \"/content/vijay_48.jpg\"  # Replace with your image path\n",
        "with open(image_path, \"rb\") as f:\n",
        "    tags = exifread.process_file(f)\n",
        "\n",
        "# Print the extracted metadata\n",
        "for tag, value in tags.items():\n",
        "    print(f\"{tag}: {value}\")\n"
      ],
      "metadata": {
        "id": "HhhzkQfluXQz"
      },
      "execution_count": null,
      "outputs": []
    }
  ]
}